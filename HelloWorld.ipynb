{
 "cells": [
  {
   "cell_type": "code",
   "execution_count": 493,
   "metadata": {},
   "outputs": [],
   "source": [
    "'''\n",
    "Steps:\n",
    "1. Import the data\n",
    "2. Clean the data\n",
    "3. Split the data into input and output sets. 'X' denotes input set 'y' denotes output set\n",
    "4. Split the data into Training/Test Sets\n",
    "5. Create a Model\n",
    "6. Train the model\n",
    "7. Make Predictions\n",
    "8. Evaluate and improve\n",
    "'''\n",
    "\n",
    "import pandas as pd\n",
    "from sklearn.tree import DecisionTreeClassifier  # import to use decision-tree algorithm\n",
    "from sklearn.model_selection import train_test_split  # imphort to split data into train and test data sets\n",
    "from sklearn.metrics import accuracy_score  # import to compare accuracy of predictions\n",
    "import joblib  # joblib has methods for saving and loading models\n",
    "from sklearn import tree\n",
    "\n",
    "music_data = pd.read_csv('music.csv')  # STEP 1\n",
    "X = music_data.drop(columns = ['genre'])  # STEP 3\n",
    "y = music_data['genre']\n",
    "X_train, X_test, y_train, y_test = train_test_split(X, y, test_size = 0.2)  #STEP 4\n",
    "\n",
    "\n",
    "def train():\n",
    "    model = DecisionTreeClassifier()  # STEP 5\n",
    "    model.fit(X_train, y_train) # STEP 6\n",
    "\n",
    "    \n",
    "def save_model():\n",
    "    joblib.dump(model, 'music-reccommender.joblib')\n",
    "    print('saved!')\n",
    "\n",
    "    \n",
    "def load_model():\n",
    "    joblib.load('music-reccommender.joblib')\n",
    "    print('loaded!')\n",
    "\n",
    "    \n",
    "def predict_and_score():\n",
    "    predictions = model.predict(X_test)  # STEP 7\n",
    "    score = accuracy_score(y_test, predictions) # STEP 8\n",
    "    print(f'{score*100}%')\n",
    "    \n",
    "    \n",
    "train()\n",
    "tree.export_graphviz(model, out_file='music-recommender.dot', feature_names=['age', 'gender'],\n",
    "                     class_names=sorted(y.unique()), label='all', rounded=True, filled=True)"
   ]
  }
 ],
 "metadata": {
  "kernelspec": {
   "display_name": "Python 3",
   "language": "python",
   "name": "python3"
  },
  "language_info": {
   "codemirror_mode": {
    "name": "ipython",
    "version": 3
   },
   "file_extension": ".py",
   "mimetype": "text/x-python",
   "name": "python",
   "nbconvert_exporter": "python",
   "pygments_lexer": "ipython3",
   "version": "3.8.5"
  }
 },
 "nbformat": 4,
 "nbformat_minor": 4
}
